{
  "nbformat": 4,
  "nbformat_minor": 0,
  "metadata": {
    "colab": {
      "provenance": [],
      "authorship_tag": "ABX9TyMa9FLMTNW2rtYpnbaMEx7h",
      "include_colab_link": true
    },
    "kernelspec": {
      "name": "python3",
      "display_name": "Python 3"
    },
    "language_info": {
      "name": "python"
    }
  },
  "cells": [
    {
      "cell_type": "markdown",
      "metadata": {
        "id": "view-in-github",
        "colab_type": "text"
      },
      "source": [
        "<a href=\"https://colab.research.google.com/github/jayaram244/2320030244-AIML/blob/main/FILE4.ipynb\" target=\"_parent\"><img src=\"https://colab.research.google.com/assets/colab-badge.svg\" alt=\"Open In Colab\"/></a>"
      ]
    },
    {
      "cell_type": "code",
      "execution_count": 3,
      "metadata": {
        "colab": {
          "base_uri": "https://localhost:8080/"
        },
        "id": "X4i2GLpjw805",
        "outputId": "b73ee97f-2fb0-4bea-ef23-4052e75695f7"
      },
      "outputs": [
        {
          "output_type": "stream",
          "name": "stdout",
          "text": [
            "Enter your data points (comma-separated, e.g., 1,2,3;4,5,6;...): 1,2; 3,4; 5,6; 8,9\n",
            "Enter the number of clusters (k): 2\n",
            "Cluster Assignments: [1, 1, 0, 0]\n",
            "Centroids: [[6.5, 7.5], [2.0, 3.0]]\n"
          ]
        }
      ],
      "source": [
        "# prompt: Implementation of K-Means algorithm take custom input  python\n",
        "\n",
        "import random\n",
        "import math\n",
        "\n",
        "def euclidean_distance(point1, point2):\n",
        "  \"\"\"Calculates the Euclidean distance between two points.\"\"\"\n",
        "  squared_diff = [(a - b)**2 for a, b in zip(point1, point2)]\n",
        "  return math.sqrt(sum(squared_diff))\n",
        "\n",
        "def k_means(data, k, max_iterations=100):\n",
        "  \"\"\"\n",
        "  Performs the K-Means clustering algorithm.\n",
        "\n",
        "  Args:\n",
        "      data: A list of data points, where each point is a list of numbers.\n",
        "      k: The number of clusters.\n",
        "      max_iterations: The maximum number of iterations.\n",
        "\n",
        "  Returns:\n",
        "      A tuple containing:\n",
        "          - A list of cluster assignments for each data point.\n",
        "          - A list of cluster centroids.\n",
        "  \"\"\"\n",
        "  # Initialize centroids randomly\n",
        "  centroids = random.sample(data, k)\n",
        "\n",
        "  for _ in range(max_iterations):\n",
        "    # Assign each data point to the nearest centroid\n",
        "    clusters = [[] for _ in range(k)]\n",
        "    assignments = []\n",
        "    for point in data:\n",
        "      distances = [euclidean_distance(point, centroid) for centroid in centroids]\n",
        "      cluster_index = distances.index(min(distances))\n",
        "      clusters[cluster_index].append(point)\n",
        "      assignments.append(cluster_index)\n",
        "\n",
        "    # Update centroids\n",
        "    new_centroids = []\n",
        "    for cluster in clusters:\n",
        "      if cluster:  # Check if cluster is not empty\n",
        "        new_centroids.append([sum(dim) / len(cluster) for dim in zip(*cluster)])\n",
        "      else:\n",
        "        # Handle empty clusters by re-initializing the centroid randomly\n",
        "        new_centroids.append(random.choice(data))\n",
        "\n",
        "    # Check for convergence\n",
        "    if new_centroids == centroids:\n",
        "      break\n",
        "    centroids = new_centroids\n",
        "\n",
        "  return assignments, centroids\n",
        "\n",
        "\n",
        "# Get input from the user\n",
        "data_str = input(\"Enter your data points (comma-separated, e.g., 1,2,3;4,5,6;...): \")\n",
        "k = int(input(\"Enter the number of clusters (k): \"))\n",
        "\n",
        "try:\n",
        "  data = []\n",
        "  for point_str in data_str.split(';'):\n",
        "      data.append([float(x) for x in point_str.split(',')])\n",
        "\n",
        "  assignments, centroids = k_means(data,k)\n",
        "\n",
        "  print(\"Cluster Assignments:\", assignments)\n",
        "  print(\"Centroids:\", centroids)\n",
        "\n",
        "except ValueError:\n",
        "    print(\"Invalid input format. Please enter comma-separated numbers for data points and a valid integer for k.\")\n",
        "\n"
      ]
    },
    {
      "cell_type": "code",
      "source": [],
      "metadata": {
        "id": "sgIpbs6NyLsK"
      },
      "execution_count": null,
      "outputs": []
    },
    {
      "cell_type": "code",
      "source": [
        "# prompt: Perceptron algorithm implementation in Python with support for custom user input.\n",
        "\n",
        "import random\n",
        "\n",
        "class Perceptron:\n",
        "    def __init__(self, learning_rate=0.01, n_iters=1000):\n",
        "        self.lr = learning_rate\n",
        "        self.n_iters = n_iters\n",
        "        self.activation_func = self._unit_step_func\n",
        "        self.weights = None\n",
        "        self.bias = None\n",
        "\n",
        "    def fit(self, X, y):\n",
        "        n_samples, n_features = X.shape\n",
        "\n",
        "        # init parameters\n",
        "        self.weights = [0.0 for _ in range(n_features)]\n",
        "        self.bias = 0.0\n",
        "\n",
        "        y_ = [1 if i > 0 else 0 for i in y]\n",
        "\n",
        "        for _ in range(self.n_iters):\n",
        "            for idx, x_i in enumerate(X):\n",
        "                linear_output = np.dot(x_i, self.weights) + self.bias\n",
        "                y_predicted = self.activation_func(linear_output)\n",
        "\n",
        "                # Perceptron update rule\n",
        "                update = self.lr * (y_[idx] - y_predicted)\n",
        "                self.weights += update * x_i\n",
        "                self.bias += update\n",
        "\n",
        "    def predict(self, X):\n",
        "        linear_output = np.dot(X, self.weights) + self.bias\n",
        "        y_predicted = self.activation_func(linear_output)\n",
        "        return y_predicted\n",
        "\n",
        "    def _unit_step_func(self, x):\n",
        "        return np.where(x>=0, 1, 0)\n",
        "\n",
        "if __name__ == \"__main__\":\n",
        "    import numpy as np\n",
        "\n",
        "    # Get input from the user\n",
        "    try:\n",
        "        data_str = input(\"Enter data points (comma-separated, e.g., 1,2;3,4;...): \")\n",
        "        labels_str = input(\"Enter corresponding labels (0 or 1, comma-separated, e.g., 0,1,0,1,...): \")\n",
        "\n",
        "        data = []\n",
        "        for point_str in data_str.split(';'):\n",
        "            data.append([float(x) for x in point_str.split(',')])\n",
        "        labels = [int(x) for x in labels_str.split(',')]\n",
        "\n",
        "        X = np.array(data)\n",
        "        y = np.array(labels)\n",
        "\n",
        "        perceptron = Perceptron(learning_rate=0.1, n_iters=1000)\n",
        "        perceptron.fit(X, y)\n",
        "\n",
        "        # Example predictions (you can modify this)\n",
        "        test_data_str = input(\"Enter test points for predictions (comma-separated, e.g., 1,2;3,4;...): \")\n",
        "        test_data = []\n",
        "        for point_str in test_data_str.split(';'):\n",
        "          test_data.append([float(x) for x in point_str.split(',')])\n",
        "        test_data = np.array(test_data)\n",
        "        predictions = perceptron.predict(test_data)\n",
        "\n",
        "        print(\"Predictions:\", predictions)\n",
        "\n",
        "    except ValueError:\n",
        "        print(\"Invalid input format.\")\n"
      ],
      "metadata": {
        "colab": {
          "base_uri": "https://localhost:8080/"
        },
        "id": "WLAAjSvDyi7w",
        "outputId": "129d1b8b-f3cc-4c1f-a465-b362565e8bdf"
      },
      "execution_count": 5,
      "outputs": [
        {
          "output_type": "stream",
          "name": "stdout",
          "text": [
            "Enter data points (comma-separated, e.g., 1,2;3,4;...): 1,0; 0,1; 1,1; 0,0\n",
            "Enter corresponding labels (0 or 1, comma-separated, e.g., 0,1,0,1,...): 1,1,1,0\n",
            "Enter test points for predictions (comma-separated, e.g., 1,2;3,4;...): 0.1,0.9; 0.9,0.2\n",
            "Predictions: [1 1]\n"
          ]
        }
      ]
    },
    {
      "cell_type": "code",
      "source": [
        "\n"
      ],
      "metadata": {
        "id": "4ty6gZmQxFRI"
      },
      "execution_count": null,
      "outputs": []
    }
  ]
}